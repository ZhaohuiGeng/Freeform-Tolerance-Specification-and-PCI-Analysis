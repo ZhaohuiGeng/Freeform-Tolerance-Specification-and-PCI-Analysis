{
 "cells": [
  {
   "cell_type": "code",
   "execution_count": 1,
   "metadata": {},
   "outputs": [],
   "source": [
    "import numpy as np\n",
    "import pandas as pd\n",
    "import scipy as sp\n",
    "\n",
    "import matplotlib.pyplot as plt\n",
    "import seaborn as sns\n",
    "\n",
    "%matplotlib inline"
   ]
  },
  {
   "cell_type": "code",
   "execution_count": 2,
   "metadata": {},
   "outputs": [],
   "source": [
    "ball = pd.read_csv('Half Ball Prediction Data.csv')\n",
    "convex = pd.read_csv('Convex Prediction Data.csv')\n",
    "freeform = pd.read_csv('Freeform 2 Prediction Data.csv')"
   ]
  },
  {
   "cell_type": "code",
   "execution_count": 3,
   "metadata": {},
   "outputs": [],
   "source": [
    "test_data = pd.read_csv(\"Whole Test Grid.csv\")"
   ]
  },
  {
   "cell_type": "code",
   "execution_count": 4,
   "metadata": {},
   "outputs": [],
   "source": [
    "test_total = []\n",
    "for i in range(1,51):\n",
    "    nameX = \"Scan\" + str(i) + \"X\"\n",
    "    nameY = \"Scan\" + str(i) + \"Y\"\n",
    "    nameZ = \"Scan\" + str(i) + \"Z\"\n",
    "    nameCurv = \"Scan\" + str(i) + \"curvature\"\n",
    "    nameAngle = \"Scan\" + str(i) + \"angle\"\n",
    "    scan_i = test_data[[nameX, nameY, nameZ,nameCurv,nameAngle]]\n",
    "    scan_i.columns = ['X', 'Y', 'Z','curvature','angle']\n",
    "    test_total.append(scan_i)\n",
    "\n",
    "test_d = test_total[2]"
   ]
  },
  {
   "cell_type": "code",
   "execution_count": 5,
   "metadata": {},
   "outputs": [],
   "source": [
    "# parameter space:\n",
    "## curvature: [0,0.4]\n",
    "## angle: [-1, 1]"
   ]
  },
  {
   "cell_type": "code",
   "execution_count": 6,
   "metadata": {},
   "outputs": [],
   "source": [
    "curvature_step = np.linspace(start=0,stop=0.4,num=30)\n",
    "angle_step = np.linspace(start=-1,stop=1,num=30)"
   ]
  },
  {
   "cell_type": "code",
   "execution_count": 7,
   "metadata": {},
   "outputs": [],
   "source": [
    "ball_para = ball[['Mean Curvature','Mean Angle']]\n",
    "convex_para = convex[['Mean Curvature','Mean Angle']]\n",
    "freeform_para = freeform[['Mean Curvature','Mean Angle']]"
   ]
  },
  {
   "cell_type": "code",
   "execution_count": 8,
   "metadata": {},
   "outputs": [],
   "source": [
    "def cal_dist(data, curvature_step, angle_step):\n",
    "    num_data = len(data)\n",
    "    dist = []\n",
    "    for i in range(len(curvature_step)-1):\n",
    "        for j in range(len(angle_step)-1):\n",
    "            flag = (data['Mean Curvature'] > curvature_step[i]) & (data['Mean Curvature'] <= curvature_step[i+1]) & (data['Mean Angle'] > angle_step[i]) & (data['Mean Angle'] < angle_step[i+1])\n",
    "            freq = len(data[flag])\n",
    "            dist.append(freq / num_data)\n",
    "    dist = np.array(dist)\n",
    "    return(dist)"
   ]
  },
  {
   "cell_type": "code",
   "execution_count": 9,
   "metadata": {},
   "outputs": [],
   "source": [
    "ball_dist = cal_dist(ball_para,curvature_step,angle_step)\n",
    "convex_dist = cal_dist(convex_para,curvature_step,angle_step)\n",
    "freeform_dist = cal_dist(freeform_para,curvature_step,angle_step)"
   ]
  },
  {
   "cell_type": "code",
   "execution_count": 10,
   "metadata": {},
   "outputs": [],
   "source": [
    "def cal_dist_2(data, curvature_step, angle_step):\n",
    "    num_data = len(data)\n",
    "    dist = []\n",
    "    for i in range(len(curvature_step)-1):\n",
    "        for j in range(len(angle_step)-1):\n",
    "            flag = (data['curvature'] > curvature_step[i]) & (data['curvature'] <= curvature_step[i+1]) & (data['angle'] > angle_step[i]) & (data['angle'] < angle_step[i+1])\n",
    "            freq = len(data[flag])\n",
    "            dist.append(freq / num_data)\n",
    "    dist = np.array(dist)\n",
    "    return(dist)"
   ]
  },
  {
   "cell_type": "code",
   "execution_count": 11,
   "metadata": {},
   "outputs": [],
   "source": [
    "test_dist = cal_dist_2(test_d,curvature_step,angle_step)"
   ]
  },
  {
   "cell_type": "code",
   "execution_count": 12,
   "metadata": {},
   "outputs": [],
   "source": [
    "def kullback_leibler_divergence(p, q):\n",
    "    sum_val = 0\n",
    "    for i in range(len(q)):\n",
    "        if q[i] == 0:\n",
    "            continue\n",
    "        else:\n",
    "            if p[i] == 0:\n",
    "                sum_val +=-1000*q[i]\n",
    "            else:\n",
    "                sum_val += p[i] * np.log(p[i]/q[i])\n",
    "                \n",
    "    return sum_val"
   ]
  },
  {
   "cell_type": "code",
   "execution_count": 17,
   "metadata": {},
   "outputs": [
    {
     "name": "stdout",
     "output_type": "stream",
     "text": [
      "-0.17471146648360522\n",
      "-1083.9833144196975\n",
      "-667.2340358966509\n"
     ]
    }
   ],
   "source": [
    "# ball vs others\n",
    "print(kullback_leibler_divergence(convex_dist,ball_dist))\n",
    "print(kullback_leibler_divergence(test_dist,ball_dist))\n",
    "print(kullback_leibler_divergence(freeform_dist,ball_dist))"
   ]
  },
  {
   "cell_type": "code",
   "execution_count": 18,
   "metadata": {},
   "outputs": [
    {
     "name": "stdout",
     "output_type": "stream",
     "text": [
      "-422.07269342543646\n",
      "-17.49449799103283\n",
      "-13.269790362738586\n"
     ]
    }
   ],
   "source": [
    "# convex vs others\n",
    "print(kullback_leibler_divergence(ball_dist,convex_dist))\n",
    "print(kullback_leibler_divergence(test_dist,convex_dist))\n",
    "print(kullback_leibler_divergence(freeform_dist,convex_dist))"
   ]
  },
  {
   "cell_type": "code",
   "execution_count": 19,
   "metadata": {},
   "outputs": [
    {
     "name": "stdout",
     "output_type": "stream",
     "text": [
      "-466.30285266910204\n",
      "-1.8423535646695794\n",
      "-24.288891481300674\n"
     ]
    }
   ],
   "source": [
    "# freeform vs others\n",
    "print(kullback_leibler_divergence(ball_dist,test_dist))\n",
    "print(kullback_leibler_divergence(convex_dist,test_dist))\n",
    "print(kullback_leibler_divergence(freeform_dist,test_dist))"
   ]
  },
  {
   "cell_type": "code",
   "execution_count": 20,
   "metadata": {},
   "outputs": [
    {
     "name": "stdout",
     "output_type": "stream",
     "text": [
      "-527.7145643581258\n",
      "0.08856113724197422\n",
      "-3.7542934148826315\n"
     ]
    }
   ],
   "source": [
    "# freeform 2 vs others\n",
    "print(kullback_leibler_divergence(ball_dist,freeform_dist))\n",
    "print(kullback_leibler_divergence(convex_dist,freeform_dist))\n",
    "print(kullback_leibler_divergence(test_dist,freeform_dist))"
   ]
  },
  {
   "cell_type": "code",
   "execution_count": null,
   "metadata": {},
   "outputs": [],
   "source": []
  },
  {
   "cell_type": "code",
   "execution_count": 13,
   "metadata": {},
   "outputs": [
    {
     "data": {
      "text/plain": [
       "-466.30285266910204"
      ]
     },
     "execution_count": 13,
     "metadata": {},
     "output_type": "execute_result"
    }
   ],
   "source": [
    "kullback_leibler_divergence(ball_dist,test_dist)"
   ]
  },
  {
   "cell_type": "code",
   "execution_count": 14,
   "metadata": {},
   "outputs": [
    {
     "data": {
      "text/plain": [
       "-1.8423535646695794"
      ]
     },
     "execution_count": 14,
     "metadata": {},
     "output_type": "execute_result"
    }
   ],
   "source": [
    "kullback_leibler_divergence(convex_dist,test_dist)"
   ]
  },
  {
   "cell_type": "code",
   "execution_count": 15,
   "metadata": {},
   "outputs": [
    {
     "data": {
      "text/plain": [
       "-24.288891481300674"
      ]
     },
     "execution_count": 15,
     "metadata": {},
     "output_type": "execute_result"
    }
   ],
   "source": [
    "kullback_leibler_divergence(freeform_dist,test_dist)"
   ]
  },
  {
   "cell_type": "code",
   "execution_count": 16,
   "metadata": {},
   "outputs": [],
   "source": [
    "kld = pd.DataFrame()"
   ]
  },
  {
   "cell_type": "code",
   "execution_count": null,
   "metadata": {},
   "outputs": [],
   "source": [
    "\n",
    "for num in np.linspace(5,40,num=20):\n",
    "    curvature_step = np.linspace(start=0,stop=0.4,num=num)\n",
    "    angle_step = np.linspace(start=-1,stop=1,num=num)\n",
    "    "
   ]
  }
 ],
 "metadata": {
  "kernelspec": {
   "display_name": "Python 3",
   "language": "python",
   "name": "python3"
  },
  "language_info": {
   "codemirror_mode": {
    "name": "ipython",
    "version": 3
   },
   "file_extension": ".py",
   "mimetype": "text/x-python",
   "name": "python",
   "nbconvert_exporter": "python",
   "pygments_lexer": "ipython3",
   "version": "3.7.3"
  }
 },
 "nbformat": 4,
 "nbformat_minor": 2
}
